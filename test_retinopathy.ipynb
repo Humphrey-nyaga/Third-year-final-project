{
 "cells": [
  {
   "cell_type": "code",
   "execution_count": 41,
   "id": "e25dceb3",
   "metadata": {},
   "outputs": [],
   "source": [
    "# load_model_sample.py\n",
    "from keras.models import load_model\n",
    "from keras.preprocessing import image\n",
    "import matplotlib.pyplot as plt\n",
    "import numpy as np\n",
    "import os\n",
    "import tensorflow as tf\n",
    "\n",
    "from keras.applications.mobilenet_v2 import decode_predictions"
   ]
  },
  {
   "cell_type": "code",
   "execution_count": 42,
   "id": "8304710b",
   "metadata": {
    "scrolled": true
   },
   "outputs": [
    {
     "name": "stdout",
     "output_type": "stream",
     "text": [
      "[[0.01213604 0.02317844 0.13679938 0.821394   0.00649216]]\n"
     ]
    }
   ],
   "source": [
    "def load_image(img_path, show=False):\n",
    "\n",
    "    img = image.load_img(img_path, target_size=(224, 224))\n",
    "    img_tensor = image.img_to_array(img)                    # (height, width, channels)\n",
    "    img_tensor = np.expand_dims(img_tensor, axis=0)         # (1, height, width, channels), add a dimension because the model expects this shape: (batch_size, height, width, channels)\n",
    "    img_tensor /= 255.                                      # imshow expects values in the range [0, 1]\n",
    "\n",
    "    if show:\n",
    "        plt.imshow(img_tensor[0])                           \n",
    "        plt.axis('off')\n",
    "        plt.show()\n",
    "\n",
    "    return img_tensor\n",
    "\n",
    "\n",
    "if __name__ == \"__main__\":\n",
    "\n",
    "    # load model\n",
    "    model = load_model(\"retinopathy_model.h5\")\n",
    "\n",
    "    # image path\n",
    "    #img_path = '/home/hum/SCHOOL PROJECT/Third-Year-Project/Images/train/Severe/99_left.png'    # severe\n",
    "    #img_path = '/home/hum/SCHOOL PROJECT/Third-Year-Project/Images/train/No_DR/5949_left.png'    #No_DR\n",
    "    img_path = '/home/hum/SCHOOL PROJECT/Third-Year-Project/Images/val/Proliferate_DR/2338_left.png' # Proliferate_DR\n",
    "\n",
    "    \n",
    "    # load a single image\n",
    "    new_image = load_image(img_path)\n",
    "\n",
    "    # check prediction\n",
    "    prediction = model.predict(new_image)\n",
    "    print(pred)#prints a 1D array.Each class prediction"
   ]
  },
  {
   "cell_type": "code",
   "execution_count": 57,
   "id": "b78159fb",
   "metadata": {},
   "outputs": [
    {
     "name": "stdout",
     "output_type": "stream",
     "text": [
      "3\n"
     ]
    }
   ],
   "source": [
    "class_index = np.argmax(tensor)\n",
    "print(class_index)\n"
   ]
  },
  {
   "cell_type": "code",
   "execution_count": 67,
   "id": "0897976f",
   "metadata": {},
   "outputs": [
    {
     "name": "stdout",
     "output_type": "stream",
     "text": [
      "The Detected Retinopathy Level is:  Proliferate_DR\n"
     ]
    }
   ],
   "source": [
    "CLASS_NAMES = ['Mild','Moderate','No_DR','Proliferate_DR','Severe']\n",
    "print(\"The Detected Retinopathy Level is: \",CLASS_NAMES[class_index])"
   ]
  },
  {
   "cell_type": "code",
   "execution_count": null,
   "id": "e4fb0ebd",
   "metadata": {},
   "outputs": [],
   "source": []
  }
 ],
 "metadata": {
  "kernelspec": {
   "display_name": "Python 3 (ipykernel)",
   "language": "python",
   "name": "python3"
  },
  "language_info": {
   "codemirror_mode": {
    "name": "ipython",
    "version": 3
   },
   "file_extension": ".py",
   "mimetype": "text/x-python",
   "name": "python",
   "nbconvert_exporter": "python",
   "pygments_lexer": "ipython3",
   "version": "3.8.5"
  }
 },
 "nbformat": 4,
 "nbformat_minor": 5
}
